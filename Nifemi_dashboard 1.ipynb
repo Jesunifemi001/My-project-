{
 "cells": [
  {
   "cell_type": "code",
   "execution_count": 1,
   "id": "d449ca06",
   "metadata": {},
   "outputs": [
    {
     "name": "stdout",
     "output_type": "stream",
     "text": [
      "^C\n",
      "Note: you may need to restart the kernel to use updated packages.\n"
     ]
    }
   ],
   "source": [
    "pip install dash plotly pandas"
   ]
  },
  {
   "cell_type": "code",
   "execution_count": null,
   "id": "65fa5328",
   "metadata": {},
   "outputs": [],
   "source": [
    "import numpy as np\n",
    "import pandas as pd\n",
    "import matplotlib.pyplot as plt\n",
    "import seaborn as sns\n",
    "from dash import Dash, html, dash_table, dcc, callback, Output, Input\n",
    "import plotly.express as px\n",
    "import dash\n",
    "from dash.dependencies import Input, Output\n",
    "import plotly.graph_objs as go\n",
    "from sklearn.model_selection import train_test_split\n",
    "from sklearn.ensemble import RandomForestClassifier"
   ]
  },
  {
   "cell_type": "code",
   "execution_count": null,
   "id": "ad561998",
   "metadata": {},
   "outputs": [],
   "source": [
    "#loading the data\n",
    "dementia_df = pd.read_csv('dementia.csv')"
   ]
  },
  {
   "cell_type": "code",
   "execution_count": null,
   "id": "9e8faf4c",
   "metadata": {},
   "outputs": [],
   "source": [
    "dementia_df.head()"
   ]
  },
  {
   "cell_type": "code",
   "execution_count": null,
   "id": "8a1dbed1",
   "metadata": {},
   "outputs": [],
   "source": [
    "#check columns with missing values\n",
    "dementia_df.isna().any(axis=0).sum()"
   ]
  },
  {
   "cell_type": "code",
   "execution_count": null,
   "id": "37083f8a",
   "metadata": {},
   "outputs": [],
   "source": [
    "#drop missing values\n",
    "missing_values = dementia_df.isnull().sum()\n",
    "print(\"\\nMissing Values Count:\")\n",
    "print(missing_values)"
   ]
  },
  {
   "cell_type": "code",
   "execution_count": null,
   "id": "736a61a5",
   "metadata": {},
   "outputs": [],
   "source": [
    "df_cleaned = dementia_df.dropna(axis=1)"
   ]
  },
  {
   "cell_type": "code",
   "execution_count": null,
   "id": "a2542980",
   "metadata": {},
   "outputs": [],
   "source": [
    "# Remove rows with any missing values\n",
    "df_dementia_cleaned = df_cleaned.dropna()"
   ]
  },
  {
   "cell_type": "code",
   "execution_count": null,
   "id": "fcc11a7d",
   "metadata": {},
   "outputs": [],
   "source": [
    "# Remove duplicate rows if any\n",
    "dementia_cleaned = df_dementia_cleaned.drop_duplicates()"
   ]
  },
  {
   "cell_type": "code",
   "execution_count": null,
   "id": "d4ab5f74",
   "metadata": {},
   "outputs": [],
   "source": [
    "missing1_values = dementia_cleaned.isnull().sum()\n",
    "print(\"\\nMissing Values Count:\")\n",
    "print(missing1_values)"
   ]
  },
  {
   "cell_type": "code",
   "execution_count": null,
   "id": "9c23d287",
   "metadata": {},
   "outputs": [],
   "source": [
    "# Initialize the Dash app\n",
    "app = Dash(__name__)"
   ]
  },
  {
   "cell_type": "code",
   "execution_count": null,
   "id": "c5bbc4ee",
   "metadata": {},
   "outputs": [],
   "source": [
    "# Define the layout of the dashboard\n",
    "app.layout = html.Div([\n",
    "    html.H1(\"Dementia Analysis Dashboard\"),\n",
    "    \n",
    "    # Patient Data Visualization\n",
    "    html.Div([\n",
    "        html.H2(\"Patient Demographics\"),\n",
    "        dcc.Graph(id='age-distribution'),\n",
    "        dcc.Graph(id='gender-distribution'),\n",
    "        dcc.Graph(id='education-distribution')\n",
    "    ]),\n",
    "    \n",
    "    # Cognitive Test Scores\n",
    "    html.Div([\n",
    "        html.H2(\"Cognitive Test Scores\"),\n",
    "        dcc.Graph(id='cognitive-scores')\n",
    "    ]),\n",
    "    \n",
    "    # Comparative Analysis\n",
    "    html.Div([\n",
    "        html.H2(\"Comparative Analysis\"),\n",
    "        dcc.Dropdown(\n",
    "            id='comparison-feature',\n",
    "            options=[{'label': col, 'value': col} for col in dementia_cleaned.columns if dementia_cleaned[col].dtype == 'object'],\n",
    "            value='Gender',\n",
    "            style={'width': '50%'}\n",
    "        ),\n",
    "        dcc.Graph(id='comparison-plot')\n",
    "    ]),\n",
    "    \n",
    "    # Predictive Analytics\n",
    "    html.Div([\n",
    "        html.H2(\"Predictive Analytics\"),\n",
    "        html.P(\"Model Accuracy Based on Selected Features:\"),\n",
    "        dcc.Dropdown(\n",
    "            id='feature-selector',\n",
    "            options=[{'label': col, 'value': col} for col in dementia_cleaned.columns if dementia_cleaned[col].dtype != 'object'],\n",
    "            value=['Age', 'Cognitive_Test_Scores', 'AlcoholLevel'],\n",
    "            multi=True,\n",
    "            style={'width': '50%'}\n",
    "        ),\n",
    "        html.Div(id='prediction-output', style={'font-weight': 'bold', 'font-size': '16px', 'margin-top': '10px'})\n",
    "    ]),\n",
    "    \n",
    "    # Care Quality Metrics\n",
    "    html.Div([\n",
    "        html.H2(\"Care Quality Metrics\"),\n",
    "        dcc.Graph(id='medication-history'),\n",
    "        dcc.Graph(id='mri-delay')\n",
    "    ])\n",
    "])\n"
   ]
  },
  {
   "cell_type": "code",
   "execution_count": null,
   "id": "72cec5cf",
   "metadata": {},
   "outputs": [],
   "source": [
    "# Callback for age distribution\n",
    "@app.callback(Output('age-distribution', 'figure'),\n",
    "              Input('age-distribution', 'id'))\n",
    "def update_age_distribution(_):\n",
    "    fig = px.histogram(dementia_cleaned, x='Age', color='Dementia', \n",
    "                       title='Age Distribution by Dementia Status',\n",
    "                       labels={'Dementia': 'Dementia Status'})\n",
    "    return fig"
   ]
  },
  {
   "cell_type": "code",
   "execution_count": null,
   "id": "6c7ff1c7",
   "metadata": {},
   "outputs": [],
   "source": [
    "# Callback for gender distribution\n",
    "@app.callback(Output('gender-distribution', 'figure'),\n",
    "              Input('gender-distribution', 'id'))\n",
    "def update_gender_distribution(_):\n",
    "    gender_counts = dementia_cleaned.groupby(['Gender', 'Dementia']).size().reset_index(name='Count')\n",
    "    fig = px.bar(gender_counts, x='Gender', y='Count', color='Dementia', \n",
    "                 title='Gender Distribution by Dementia Status',\n",
    "                 labels={'Count': 'Count', 'Gender': 'Gender', 'Dementia': 'Dementia Status'})\n",
    "    return fig"
   ]
  },
  {
   "cell_type": "code",
   "execution_count": null,
   "id": "ecdef555",
   "metadata": {},
   "outputs": [],
   "source": [
    "# Callback for education distribution\n",
    "@app.callback(Output('education-distribution', 'figure'),\n",
    "              Input('education-distribution', 'id'))\n",
    "def update_education_distribution(_):\n",
    "    education_counts = dementia_cleaned.groupby(['Education_Level', 'Dementia']).size().reset_index(name='Count')\n",
    "    fig = px.bar(education_counts, x='Education_Level', y='Count', color='Dementia', \n",
    "                 title='Education Level Distribution by Dementia Status',\n",
    "                 labels={'Count': 'Count', 'Education_Level': 'Education Level', 'Dementia': 'Dementia Status'})\n",
    "    return fig"
   ]
  },
  {
   "cell_type": "code",
   "execution_count": null,
   "id": "2a29f062",
   "metadata": {},
   "outputs": [],
   "source": [
    "# Callback for cognitive scores\n",
    "@app.callback(Output('cognitive-scores', 'figure'),\n",
    "              Input('cognitive-scores', 'id'))\n",
    "def update_cognitive_scores(_):\n",
    "    fig = px.box(dementia_cleaned, x='Dementia', y='Cognitive_Test_Scores', \n",
    "                 title='Cognitive Test Scores by Dementia Status',\n",
    "                 labels={'Dementia': 'Dementia Status', 'Cognitive_Test_Scores': 'Cognitive Test Scores'})\n",
    "    return fig"
   ]
  },
  {
   "cell_type": "code",
   "execution_count": null,
   "id": "229b2667",
   "metadata": {},
   "outputs": [],
   "source": [
    "# Callback for comparative analysis\n",
    "@app.callback(Output('comparison-plot', 'figure'),\n",
    "              Input('comparison-feature', 'value'))\n",
    "def update_comparison_plot(feature):\n",
    "    fig = px.histogram(dementia_cleaned, x=feature, color='Dementia', \n",
    "                       title=f'Distribution of {feature} by Dementia Status',\n",
    "                       labels={'Dementia': 'Dementia Status'})\n",
    "    return fig"
   ]
  },
  {
   "cell_type": "code",
   "execution_count": null,
   "id": "c64067cb",
   "metadata": {},
   "outputs": [],
   "source": [
    "# Callback for predictive analytics\n",
    "@app.callback(Output('prediction-output', 'children'),\n",
    "              Input('feature-selector', 'value'))\n",
    "def update_prediction(selected_features):\n",
    "    if not selected_features:\n",
    "        return \"Please select at least one feature.\"\n",
    "    X = dementia_cleaned[selected_features]\n",
    "    y = dementia_cleaned['Dementia']\n",
    "    X_train, X_test, y_train, y_test = train_test_split(X, y, test_size=0.2, random_state=42)\n",
    "    model = RandomForestClassifier(n_estimators=100, random_state=42)\n",
    "    model.fit(X_train, y_train)\n",
    "    accuracy = model.score(X_test, y_test)\n",
    "    return f\"Random Forest Model Accuracy: {accuracy:.2f}\"\n"
   ]
  },
  {
   "cell_type": "code",
   "execution_count": null,
   "id": "cd30d3e9",
   "metadata": {},
   "outputs": [],
   "source": [
    "# Callback for medication usage\n",
    "@app.callback(Output('medication-history', 'figure'),\n",
    "              Input('medication-history', 'id'))\n",
    "def update_medication_usage(_):\n",
    "    medication_counts = dementia_cleaned['Medication_History'].value_counts().reset_index()\n",
    "    # Rename the columns for clarity\n",
    "    medication_counts.columns = ['Medication_History', 'Count']\n",
    "    # Create the pie chart\n",
    "    fig = px.pie(medication_counts, values='Count', names='Medication_History', \n",
    "                 title='Medication Usage Distribution')\n",
    "    return fig"
   ]
  },
  {
   "cell_type": "code",
   "execution_count": null,
   "id": "d9c8b939",
   "metadata": {},
   "outputs": [],
   "source": [
    "# Callback for MRI delay\n",
    "@app.callback(Output('mri-delay', 'figure'),\n",
    "              Input('mri-delay', 'id'))\n",
    "def update_mri_delay(_):\n",
    "    fig = px.box(dementia_cleaned, x='Dementia', y='MRI_Delay', \n",
    "                 title='MRI Delay by Dementia Status',\n",
    "                 labels={'Dementia': 'Dementia Status', 'MRI_Delay': 'MRI Delay (days)'})\n",
    "    return fig\n"
   ]
  },
  {
   "cell_type": "code",
   "execution_count": null,
   "id": "39ced654",
   "metadata": {
    "scrolled": false
   },
   "outputs": [],
   "source": [
    "# Run the app\n",
    "if __name__ == '__main__':\n",
    "    app.run_server(debug=True)"
   ]
  },
  {
   "cell_type": "markdown",
   "id": "75812a06",
   "metadata": {},
   "source": []
  },
  {
   "cell_type": "code",
   "execution_count": null,
   "id": "6666271b",
   "metadata": {},
   "outputs": [],
   "source": []
  },
  {
   "cell_type": "markdown",
   "id": "6b7c96cc",
   "metadata": {},
   "source": [
    "Result of the above visualization\n",
    "1. Age distribution by Dementia status:\n",
    "  This is a Histogram that visualizes the age distribution of patients in dementia status. The red color indicates patients diagonized with Dementia(categorized as 1) while the blue color indicates patients without dementia(categorized as 2). X-axis: Patients age ranging from 60-90 years. Y axis: Patients count in each age group. Distribution: patients with the age group 60-63 has higher count of dementia patients within age group 64-71 has higher count of no dementia Patients within the age group 72-77 has a higher count of Dementia Patients within the age group 79-87 has a higher count of no dementia Patients within the age group 88-91 has a higher count of Dementia From this Visualization, Age group with dementia varies and is not consistent. Therefore, increase in age does not highly significant to developing Dementia.\n",
    "\n",
    "2. Gender Distribution by Dementia Status \n",
    " This is a stacked barchart that visualizes Dementia prevalence across Gender. The yellow color indicates patients with dementia while blue color indicates patients gender without dementia. X axis: Gender (Male and Female) Y axis: Count of individual patients. From the observation, Female with dementia are 244 while males with dementia are 241. Also Females without dementia are 260 while males without dementia are 255. We can deduce that both genders have almost similar counts as the height of the bars are similar. The number of females with dementia is roughly equal to the number of males with dementia (Difference of 3 counts) and the number of females without dementia is roughly equals to the number of males without dementia (difference of 5 counts). Insights: Gender does not significantly affect the distribution of dementia status in the dataset as both genders ehibit theb same pattern.\n",
    "\n",
    "3. Education level distribution by dementia status. \n",
    "  This visualization depicts the distribution of education levels by Dementia status. Each bars is separated by the education level. The yellow color indicates counts with dementia and blue indicates counts without dementia. X axis: This includes different education level like Diploma, No school, Primary school, and secondary school. Y axis : This includes the count of individuals in each category. From the observation, higher number of patients with diploma has no Dementia, Higher number of patients without school has Dementia Higher numvber of patients with primary school educational level has no dementia Higher number of patients with secondarty school has Dementia. This means the prevalence of dementia among patients with certain educational level varies.\n",
    "\n",
    "4. Cognitive test scores by Dementia Status\n",
    "This is a Boxplot visualization comparing cognitive test scores with two groups which are dementia represented as 1 and no dementia represented as 0. \n"
   ]
  }
 ],
 "metadata": {
  "kernelspec": {
   "display_name": "Python 3 (ipykernel)",
   "language": "python",
   "name": "python3"
  },
  "language_info": {
   "codemirror_mode": {
    "name": "ipython",
    "version": 3
   },
   "file_extension": ".py",
   "mimetype": "text/x-python",
   "name": "python",
   "nbconvert_exporter": "python",
   "pygments_lexer": "ipython3",
   "version": "3.11.5"
  }
 },
 "nbformat": 4,
 "nbformat_minor": 5
}
